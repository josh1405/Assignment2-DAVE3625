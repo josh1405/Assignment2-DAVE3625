{
 "cells": [
  {
   "cell_type": "code",
   "execution_count": 175,
   "id": "1211f9f6",
   "metadata": {},
   "outputs": [],
   "source": [
    "%matplotlib inline\n",
    "\n",
    "import numpy as np \n",
    "import pandas as pd\n",
    "import matplotlib.pyplot as plt\n",
    "import datetime as dt\n",
    "import re\n",
    "\n",
    "from sklearn import metrics\n",
    "from sklearn import preprocessing\n",
    "from sklearn.linear_model import LinearRegression\n",
    "from sklearn.model_selection import train_test_split"
   ]
  },
  {
   "cell_type": "code",
   "execution_count": 176,
   "id": "2ce46ff1",
   "metadata": {},
   "outputs": [],
   "source": [
    "df = pd.read_csv(\"TSLA.csv\")"
   ]
  },
  {
   "cell_type": "code",
   "execution_count": 177,
   "id": "6333a72d",
   "metadata": {},
   "outputs": [],
   "source": [
    "df['Date'] = pd.to_datetime(df['Date'])"
   ]
  },
  {
   "cell_type": "code",
   "execution_count": 178,
   "id": "d0ec4e86",
   "metadata": {},
   "outputs": [],
   "source": [
    "df['Day'] = df['Date'].dt.day\n",
    "df['Month'] = df['Date'].dt.month\n",
    "df['Year'] = df['Date'].dt.year"
   ]
  },
  {
   "cell_type": "code",
   "execution_count": 240,
   "id": "0479ab2d",
   "metadata": {},
   "outputs": [
    {
     "data": {
      "text/html": [
       "<div>\n",
       "<style scoped>\n",
       "    .dataframe tbody tr th:only-of-type {\n",
       "        vertical-align: middle;\n",
       "    }\n",
       "\n",
       "    .dataframe tbody tr th {\n",
       "        vertical-align: top;\n",
       "    }\n",
       "\n",
       "    .dataframe thead th {\n",
       "        text-align: right;\n",
       "    }\n",
       "</style>\n",
       "<table border=\"1\" class=\"dataframe\">\n",
       "  <thead>\n",
       "    <tr style=\"text-align: right;\">\n",
       "      <th></th>\n",
       "      <th>Date</th>\n",
       "      <th>Open</th>\n",
       "      <th>High</th>\n",
       "      <th>Low</th>\n",
       "      <th>Close</th>\n",
       "      <th>Adj Close</th>\n",
       "      <th>Volume</th>\n",
       "      <th>Day</th>\n",
       "      <th>Month</th>\n",
       "      <th>Year</th>\n",
       "      <th>New</th>\n",
       "    </tr>\n",
       "  </thead>\n",
       "  <tbody>\n",
       "    <tr>\n",
       "      <th>0</th>\n",
       "      <td>2020-10-26</td>\n",
       "      <td>411.630005</td>\n",
       "      <td>425.760010</td>\n",
       "      <td>410.000000</td>\n",
       "      <td>420.279999</td>\n",
       "      <td>420.279999</td>\n",
       "      <td>28239200</td>\n",
       "      <td>26</td>\n",
       "      <td>10</td>\n",
       "      <td>2020</td>\n",
       "      <td>175255.595045</td>\n",
       "    </tr>\n",
       "    <tr>\n",
       "      <th>1</th>\n",
       "      <td>2020-10-27</td>\n",
       "      <td>423.760010</td>\n",
       "      <td>430.500000</td>\n",
       "      <td>420.100006</td>\n",
       "      <td>424.679993</td>\n",
       "      <td>424.679993</td>\n",
       "      <td>22686500</td>\n",
       "      <td>27</td>\n",
       "      <td>10</td>\n",
       "      <td>2020</td>\n",
       "      <td>182428.684305</td>\n",
       "    </tr>\n",
       "    <tr>\n",
       "      <th>2</th>\n",
       "      <td>2020-10-28</td>\n",
       "      <td>416.480011</td>\n",
       "      <td>418.600006</td>\n",
       "      <td>406.000000</td>\n",
       "      <td>406.019989</td>\n",
       "      <td>406.019989</td>\n",
       "      <td>25451400</td>\n",
       "      <td>28</td>\n",
       "      <td>10</td>\n",
       "      <td>2020</td>\n",
       "      <td>174338.535103</td>\n",
       "    </tr>\n",
       "    <tr>\n",
       "      <th>3</th>\n",
       "      <td>2020-10-29</td>\n",
       "      <td>409.959991</td>\n",
       "      <td>418.059998</td>\n",
       "      <td>406.459991</td>\n",
       "      <td>410.829987</td>\n",
       "      <td>410.829987</td>\n",
       "      <td>22655300</td>\n",
       "      <td>29</td>\n",
       "      <td>10</td>\n",
       "      <td>2020</td>\n",
       "      <td>171387.873018</td>\n",
       "    </tr>\n",
       "    <tr>\n",
       "      <th>4</th>\n",
       "      <td>2020-10-30</td>\n",
       "      <td>406.899994</td>\n",
       "      <td>407.589996</td>\n",
       "      <td>379.109985</td>\n",
       "      <td>388.040009</td>\n",
       "      <td>388.040009</td>\n",
       "      <td>42511300</td>\n",
       "      <td>30</td>\n",
       "      <td>10</td>\n",
       "      <td>2020</td>\n",
       "      <td>165848.366927</td>\n",
       "    </tr>\n",
       "  </tbody>\n",
       "</table>\n",
       "</div>"
      ],
      "text/plain": [
       "        Date        Open        High         Low       Close   Adj Close  \\\n",
       "0 2020-10-26  411.630005  425.760010  410.000000  420.279999  420.279999   \n",
       "1 2020-10-27  423.760010  430.500000  420.100006  424.679993  424.679993   \n",
       "2 2020-10-28  416.480011  418.600006  406.000000  406.019989  406.019989   \n",
       "3 2020-10-29  409.959991  418.059998  406.459991  410.829987  410.829987   \n",
       "4 2020-10-30  406.899994  407.589996  379.109985  388.040009  388.040009   \n",
       "\n",
       "     Volume  Day  Month  Year            New  \n",
       "0  28239200   26     10  2020  175255.595045  \n",
       "1  22686500   27     10  2020  182428.684305  \n",
       "2  25451400   28     10  2020  174338.535103  \n",
       "3  22655300   29     10  2020  171387.873018  \n",
       "4  42511300   30     10  2020  165848.366927  "
      ]
     },
     "execution_count": 240,
     "metadata": {},
     "output_type": "execute_result"
    }
   ],
   "source": [
    "df.head()"
   ]
  },
  {
   "cell_type": "code",
   "execution_count": 180,
   "id": "98460453",
   "metadata": {},
   "outputs": [
    {
     "data": {
      "text/plain": [
       "<AxesSubplot:xlabel='Date', ylabel='Close'>"
      ]
     },
     "execution_count": 180,
     "metadata": {},
     "output_type": "execute_result"
    },
    {
     "data": {
      "image/png": "[encoded data removed]",
      "text/plain": [
       "<Figure size 432x288 with 1 Axes>"
      ]
     },
     "metadata": {
      "needs_background": "light"
     },
     "output_type": "display_data"
    }
   ],
   "source": [
    "df.plot.scatter(x = 'Date', y = 'Close')"
   ]
  },
  {
   "cell_type": "code",
   "execution_count": 181,
   "id": "1590549b",
   "metadata": {},
   "outputs": [
    {
     "data": {
      "image/png": "[encoded data removed]",
      "text/plain": [
       "<Figure size 288x288 with 1 Axes>"
      ]
     },
     "metadata": {
      "needs_background": "light"
     },
     "output_type": "display_data"
    }
   ],
   "source": [
    "plt.matshow(df.corr())\n",
    "plt.show()"
   ]
  },
  {
   "cell_type": "code",
   "execution_count": 182,
   "id": "ac90222a",
   "metadata": {},
   "outputs": [
    {
     "data": {
      "text/html": [
       "<style type=\"text/css\">\n",
       "#T_c4635_row0_col0, #T_c4635_row1_col1, #T_c4635_row2_col2, #T_c4635_row3_col3, #T_c4635_row3_col4, #T_c4635_row4_col3, #T_c4635_row4_col4, #T_c4635_row5_col5, #T_c4635_row6_col6, #T_c4635_row7_col7, #T_c4635_row8_col8 {\n",
       "  background-color: #b40426;\n",
       "  color: #f1f1f1;\n",
       "}\n",
       "#T_c4635_row0_col1, #T_c4635_row0_col2, #T_c4635_row1_col0, #T_c4635_row1_col2, #T_c4635_row1_col3, #T_c4635_row1_col4, #T_c4635_row2_col0, #T_c4635_row2_col1, #T_c4635_row2_col3, #T_c4635_row2_col4, #T_c4635_row3_col1, #T_c4635_row3_col2, #T_c4635_row4_col1, #T_c4635_row4_col2 {\n",
       "  background-color: #b50927;\n",
       "  color: #f1f1f1;\n",
       "}\n",
       "#T_c4635_row0_col3, #T_c4635_row0_col4, #T_c4635_row3_col0, #T_c4635_row4_col0 {\n",
       "  background-color: #b70d28;\n",
       "  color: #f1f1f1;\n",
       "}\n",
       "#T_c4635_row0_col5, #T_c4635_row0_col7 {\n",
       "  background-color: #6788ee;\n",
       "  color: #f1f1f1;\n",
       "}\n",
       "#T_c4635_row0_col6 {\n",
       "  background-color: #3f53c6;\n",
       "  color: #f1f1f1;\n",
       "}\n",
       "#T_c4635_row0_col8 {\n",
       "  background-color: #f18d6f;\n",
       "  color: #f1f1f1;\n",
       "}\n",
       "#T_c4635_row1_col5, #T_c4635_row5_col8 {\n",
       "  background-color: #7295f4;\n",
       "  color: #f1f1f1;\n",
       "}\n",
       "#T_c4635_row1_col6 {\n",
       "  background-color: #4358cb;\n",
       "  color: #f1f1f1;\n",
       "}\n",
       "#T_c4635_row1_col7 {\n",
       "  background-color: #6485ec;\n",
       "  color: #f1f1f1;\n",
       "}\n",
       "#T_c4635_row1_col8, #T_c4635_row2_col8 {\n",
       "  background-color: #f18f71;\n",
       "  color: #f1f1f1;\n",
       "}\n",
       "#T_c4635_row2_col5 {\n",
       "  background-color: #5b7ae5;\n",
       "  color: #f1f1f1;\n",
       "}\n",
       "#T_c4635_row2_col6 {\n",
       "  background-color: #4257c9;\n",
       "  color: #f1f1f1;\n",
       "}\n",
       "#T_c4635_row2_col7, #T_c4635_row3_col5, #T_c4635_row4_col5 {\n",
       "  background-color: #6c8ff1;\n",
       "  color: #f1f1f1;\n",
       "}\n",
       "#T_c4635_row3_col6, #T_c4635_row4_col6 {\n",
       "  background-color: #445acc;\n",
       "  color: #f1f1f1;\n",
       "}\n",
       "#T_c4635_row3_col7, #T_c4635_row4_col7 {\n",
       "  background-color: #6b8df0;\n",
       "  color: #f1f1f1;\n",
       "}\n",
       "#T_c4635_row3_col8, #T_c4635_row4_col8 {\n",
       "  background-color: #f29274;\n",
       "  color: #f1f1f1;\n",
       "}\n",
       "#T_c4635_row5_col0, #T_c4635_row5_col3, #T_c4635_row5_col4 {\n",
       "  background-color: #7396f5;\n",
       "  color: #f1f1f1;\n",
       "}\n",
       "#T_c4635_row5_col1 {\n",
       "  background-color: #7ea1fa;\n",
       "  color: #f1f1f1;\n",
       "}\n",
       "#T_c4635_row5_col2 {\n",
       "  background-color: #6180e9;\n",
       "  color: #f1f1f1;\n",
       "}\n",
       "#T_c4635_row5_col6 {\n",
       "  background-color: #4c66d6;\n",
       "  color: #f1f1f1;\n",
       "}\n",
       "#T_c4635_row5_col7 {\n",
       "  background-color: #c6d6f1;\n",
       "  color: #000000;\n",
       "}\n",
       "#T_c4635_row6_col0 {\n",
       "  background-color: #98b9ff;\n",
       "  color: #000000;\n",
       "}\n",
       "#T_c4635_row6_col1 {\n",
       "  background-color: #9dbdff;\n",
       "  color: #000000;\n",
       "}\n",
       "#T_c4635_row6_col2 {\n",
       "  background-color: #96b7ff;\n",
       "  color: #000000;\n",
       "}\n",
       "#T_c4635_row6_col3, #T_c4635_row6_col4 {\n",
       "  background-color: #9abbff;\n",
       "  color: #000000;\n",
       "}\n",
       "#T_c4635_row6_col5 {\n",
       "  background-color: #9bbcff;\n",
       "  color: #000000;\n",
       "}\n",
       "#T_c4635_row6_col7 {\n",
       "  background-color: #c1d4f4;\n",
       "  color: #000000;\n",
       "}\n",
       "#T_c4635_row6_col8 {\n",
       "  background-color: #b7cff9;\n",
       "  color: #000000;\n",
       "}\n",
       "#T_c4635_row7_col0, #T_c4635_row7_col1, #T_c4635_row7_col2, #T_c4635_row7_col3, #T_c4635_row7_col4, #T_c4635_row7_col8, #T_c4635_row8_col5, #T_c4635_row8_col6, #T_c4635_row8_col7 {\n",
       "  background-color: #3b4cc0;\n",
       "  color: #f1f1f1;\n",
       "}\n",
       "#T_c4635_row7_col5 {\n",
       "  background-color: #9ebeff;\n",
       "  color: #000000;\n",
       "}\n",
       "#T_c4635_row7_col6 {\n",
       "  background-color: #4961d2;\n",
       "  color: #f1f1f1;\n",
       "}\n",
       "#T_c4635_row8_col0, #T_c4635_row8_col1 {\n",
       "  background-color: #f59d7e;\n",
       "  color: #000000;\n",
       "}\n",
       "#T_c4635_row8_col2 {\n",
       "  background-color: #f59f80;\n",
       "  color: #000000;\n",
       "}\n",
       "#T_c4635_row8_col3, #T_c4635_row8_col4 {\n",
       "  background-color: #f6a283;\n",
       "  color: #000000;\n",
       "}\n",
       "</style>\n",
       "<table id=\"T_c4635_\">\n",
       "  <thead>\n",
       "    <tr>\n",
       "      <th class=\"blank level0\" >&nbsp;</th>\n",
       "      <th class=\"col_heading level0 col0\" >Open</th>\n",
       "      <th class=\"col_heading level0 col1\" >High</th>\n",
       "      <th class=\"col_heading level0 col2\" >Low</th>\n",
       "      <th class=\"col_heading level0 col3\" >Close</th>\n",
       "      <th class=\"col_heading level0 col4\" >Adj Close</th>\n",
       "      <th class=\"col_heading level0 col5\" >Volume</th>\n",
       "      <th class=\"col_heading level0 col6\" >Day</th>\n",
       "      <th class=\"col_heading level0 col7\" >Month</th>\n",
       "      <th class=\"col_heading level0 col8\" >Year</th>\n",
       "    </tr>\n",
       "  </thead>\n",
       "  <tbody>\n",
       "    <tr>\n",
       "      <th id=\"T_c4635_level0_row0\" class=\"row_heading level0 row0\" >Open</th>\n",
       "      <td id=\"T_c4635_row0_col0\" class=\"data row0 col0\" >1.000000</td>\n",
       "      <td id=\"T_c4635_row0_col1\" class=\"data row0 col1\" >0.994047</td>\n",
       "      <td id=\"T_c4635_row0_col2\" class=\"data row0 col2\" >0.992480</td>\n",
       "      <td id=\"T_c4635_row0_col3\" class=\"data row0 col3\" >0.985093</td>\n",
       "      <td id=\"T_c4635_row0_col4\" class=\"data row0 col4\" >0.985093</td>\n",
       "      <td id=\"T_c4635_row0_col5\" class=\"data row0 col5\" >-0.182454</td>\n",
       "      <td id=\"T_c4635_row0_col6\" class=\"data row0 col6\" >-0.028960</td>\n",
       "      <td id=\"T_c4635_row0_col7\" class=\"data row0 col7\" >-0.436782</td>\n",
       "      <td id=\"T_c4635_row0_col8\" class=\"data row0 col8\" >0.629033</td>\n",
       "    </tr>\n",
       "    <tr>\n",
       "      <th id=\"T_c4635_level0_row1\" class=\"row_heading level0 row1\" >High</th>\n",
       "      <td id=\"T_c4635_row1_col0\" class=\"data row1 col0\" >0.994047</td>\n",
       "      <td id=\"T_c4635_row1_col1\" class=\"data row1 col1\" >1.000000</td>\n",
       "      <td id=\"T_c4635_row1_col2\" class=\"data row1 col2\" >0.991162</td>\n",
       "      <td id=\"T_c4635_row1_col3\" class=\"data row1 col3\" >0.994196</td>\n",
       "      <td id=\"T_c4635_row1_col4\" class=\"data row1 col4\" >0.994196</td>\n",
       "      <td id=\"T_c4635_row1_col5\" class=\"data row1 col5\" >-0.143814</td>\n",
       "      <td id=\"T_c4635_row1_col6\" class=\"data row1 col6\" >-0.017643</td>\n",
       "      <td id=\"T_c4635_row1_col7\" class=\"data row1 col7\" >-0.446443</td>\n",
       "      <td id=\"T_c4635_row1_col8\" class=\"data row1 col8\" >0.623907</td>\n",
       "    </tr>\n",
       "    <tr>\n",
       "      <th id=\"T_c4635_level0_row2\" class=\"row_heading level0 row2\" >Low</th>\n",
       "      <td id=\"T_c4635_row2_col0\" class=\"data row2 col0\" >0.992480</td>\n",
       "      <td id=\"T_c4635_row2_col1\" class=\"data row2 col1\" >0.991162</td>\n",
       "      <td id=\"T_c4635_row2_col2\" class=\"data row2 col2\" >1.000000</td>\n",
       "      <td id=\"T_c4635_row2_col3\" class=\"data row2 col3\" >0.992266</td>\n",
       "      <td id=\"T_c4635_row2_col4\" class=\"data row2 col4\" >0.992266</td>\n",
       "      <td id=\"T_c4635_row2_col5\" class=\"data row2 col5\" >-0.231946</td>\n",
       "      <td id=\"T_c4635_row2_col6\" class=\"data row2 col6\" >-0.018813</td>\n",
       "      <td id=\"T_c4635_row2_col7\" class=\"data row2 col7\" >-0.406617</td>\n",
       "      <td id=\"T_c4635_row2_col8\" class=\"data row2 col8\" >0.626959</td>\n",
       "    </tr>\n",
       "    <tr>\n",
       "      <th id=\"T_c4635_level0_row3\" class=\"row_heading level0 row3\" >Close</th>\n",
       "      <td id=\"T_c4635_row3_col0\" class=\"data row3 col0\" >0.985093</td>\n",
       "      <td id=\"T_c4635_row3_col1\" class=\"data row3 col1\" >0.994196</td>\n",
       "      <td id=\"T_c4635_row3_col2\" class=\"data row3 col2\" >0.992266</td>\n",
       "      <td id=\"T_c4635_row3_col3\" class=\"data row3 col3\" >1.000000</td>\n",
       "      <td id=\"T_c4635_row3_col4\" class=\"data row3 col4\" >1.000000</td>\n",
       "      <td id=\"T_c4635_row3_col5\" class=\"data row3 col5\" >-0.163889</td>\n",
       "      <td id=\"T_c4635_row3_col6\" class=\"data row3 col6\" >-0.010717</td>\n",
       "      <td id=\"T_c4635_row3_col7\" class=\"data row3 col7\" >-0.416370</td>\n",
       "      <td id=\"T_c4635_row3_col8\" class=\"data row3 col8\" >0.613595</td>\n",
       "    </tr>\n",
       "    <tr>\n",
       "      <th id=\"T_c4635_level0_row4\" class=\"row_heading level0 row4\" >Adj Close</th>\n",
       "      <td id=\"T_c4635_row4_col0\" class=\"data row4 col0\" >0.985093</td>\n",
       "      <td id=\"T_c4635_row4_col1\" class=\"data row4 col1\" >0.994196</td>\n",
       "      <td id=\"T_c4635_row4_col2\" class=\"data row4 col2\" >0.992266</td>\n",
       "      <td id=\"T_c4635_row4_col3\" class=\"data row4 col3\" >1.000000</td>\n",
       "      <td id=\"T_c4635_row4_col4\" class=\"data row4 col4\" >1.000000</td>\n",
       "      <td id=\"T_c4635_row4_col5\" class=\"data row4 col5\" >-0.163889</td>\n",
       "      <td id=\"T_c4635_row4_col6\" class=\"data row4 col6\" >-0.010717</td>\n",
       "      <td id=\"T_c4635_row4_col7\" class=\"data row4 col7\" >-0.416370</td>\n",
       "      <td id=\"T_c4635_row4_col8\" class=\"data row4 col8\" >0.613595</td>\n",
       "    </tr>\n",
       "    <tr>\n",
       "      <th id=\"T_c4635_level0_row5\" class=\"row_heading level0 row5\" >Volume</th>\n",
       "      <td id=\"T_c4635_row5_col0\" class=\"data row5 col0\" >-0.182454</td>\n",
       "      <td id=\"T_c4635_row5_col1\" class=\"data row5 col1\" >-0.143814</td>\n",
       "      <td id=\"T_c4635_row5_col2\" class=\"data row5 col2\" >-0.231946</td>\n",
       "      <td id=\"T_c4635_row5_col3\" class=\"data row5 col3\" >-0.163889</td>\n",
       "      <td id=\"T_c4635_row5_col4\" class=\"data row5 col4\" >-0.163889</td>\n",
       "      <td id=\"T_c4635_row5_col5\" class=\"data row5 col5\" >1.000000</td>\n",
       "      <td id=\"T_c4635_row5_col6\" class=\"data row5 col6\" >0.018526</td>\n",
       "      <td id=\"T_c4635_row5_col7\" class=\"data row5 col7\" >0.032567</td>\n",
       "      <td id=\"T_c4635_row5_col8\" class=\"data row5 col8\" >-0.381225</td>\n",
       "    </tr>\n",
       "    <tr>\n",
       "      <th id=\"T_c4635_level0_row6\" class=\"row_heading level0 row6\" >Day</th>\n",
       "      <td id=\"T_c4635_row6_col0\" class=\"data row6 col0\" >-0.028960</td>\n",
       "      <td id=\"T_c4635_row6_col1\" class=\"data row6 col1\" >-0.017643</td>\n",
       "      <td id=\"T_c4635_row6_col2\" class=\"data row6 col2\" >-0.018813</td>\n",
       "      <td id=\"T_c4635_row6_col3\" class=\"data row6 col3\" >-0.010717</td>\n",
       "      <td id=\"T_c4635_row6_col4\" class=\"data row6 col4\" >-0.010717</td>\n",
       "      <td id=\"T_c4635_row6_col5\" class=\"data row6 col5\" >0.018526</td>\n",
       "      <td id=\"T_c4635_row6_col6\" class=\"data row6 col6\" >1.000000</td>\n",
       "      <td id=\"T_c4635_row6_col7\" class=\"data row6 col7\" >0.005377</td>\n",
       "      <td id=\"T_c4635_row6_col8\" class=\"data row6 col8\" >-0.046810</td>\n",
       "    </tr>\n",
       "    <tr>\n",
       "      <th id=\"T_c4635_level0_row7\" class=\"row_heading level0 row7\" >Month</th>\n",
       "      <td id=\"T_c4635_row7_col0\" class=\"data row7 col0\" >-0.436782</td>\n",
       "      <td id=\"T_c4635_row7_col1\" class=\"data row7 col1\" >-0.446443</td>\n",
       "      <td id=\"T_c4635_row7_col2\" class=\"data row7 col2\" >-0.406617</td>\n",
       "      <td id=\"T_c4635_row7_col3\" class=\"data row7 col3\" >-0.416370</td>\n",
       "      <td id=\"T_c4635_row7_col4\" class=\"data row7 col4\" >-0.416370</td>\n",
       "      <td id=\"T_c4635_row7_col5\" class=\"data row7 col5\" >0.032567</td>\n",
       "      <td id=\"T_c4635_row7_col6\" class=\"data row7 col6\" >0.005377</td>\n",
       "      <td id=\"T_c4635_row7_col7\" class=\"data row7 col7\" >1.000000</td>\n",
       "      <td id=\"T_c4635_row7_col8\" class=\"data row7 col8\" >-0.673121</td>\n",
       "    </tr>\n",
       "    <tr>\n",
       "      <th id=\"T_c4635_level0_row8\" class=\"row_heading level0 row8\" >Year</th>\n",
       "      <td id=\"T_c4635_row8_col0\" class=\"data row8 col0\" >0.629033</td>\n",
       "      <td id=\"T_c4635_row8_col1\" class=\"data row8 col1\" >0.623907</td>\n",
       "      <td id=\"T_c4635_row8_col2\" class=\"data row8 col2\" >0.626959</td>\n",
       "      <td id=\"T_c4635_row8_col3\" class=\"data row8 col3\" >0.613595</td>\n",
       "      <td id=\"T_c4635_row8_col4\" class=\"data row8 col4\" >0.613595</td>\n",
       "      <td id=\"T_c4635_row8_col5\" class=\"data row8 col5\" >-0.381225</td>\n",
       "      <td id=\"T_c4635_row8_col6\" class=\"data row8 col6\" >-0.046810</td>\n",
       "      <td id=\"T_c4635_row8_col7\" class=\"data row8 col7\" >-0.673121</td>\n",
       "      <td id=\"T_c4635_row8_col8\" class=\"data row8 col8\" >1.000000</td>\n",
       "    </tr>\n",
       "  </tbody>\n",
       "</table>\n"
      ],
      "text/plain": [
       "<pandas.io.formats.style.Styler at 0x2807453e220>"
      ]
     },
     "execution_count": 182,
     "metadata": {},
     "output_type": "execute_result"
    }
   ],
   "source": [
    "corr = df.corr()\n",
    "corr.style.background_gradient(cmap='coolwarm')"
   ]
  },
  {
   "cell_type": "code",
   "execution_count": 183,
   "id": "6e2fc3cb",
   "metadata": {},
   "outputs": [
    {
     "data": {
      "image/png": "[encoded data removed]",
      "text/plain": [
       "<Figure size 432x288 with 1 Axes>"
      ]
     },
     "metadata": {
      "needs_background": "light"
     },
     "output_type": "display_data"
    }
   ],
   "source": [
    "ax1 = df.plot(kind='scatter', x='Day', y='Close', color='r')\n",
    "ax2 = df.plot(kind='scatter', x='Month', y='Close', color='g', ax=ax1)"
   ]
  },
  {
   "cell_type": "code",
   "execution_count": 184,
   "id": "95612308",
   "metadata": {},
   "outputs": [],
   "source": [
    "X = df[['Day', 'Month', 'Year', 'Open']]\n",
    "y = df['Close']"
   ]
  },
  {
   "cell_type": "code",
   "execution_count": 185,
   "id": "f18bea36",
   "metadata": {},
   "outputs": [],
   "source": [
    "X_train, X_test, y_train, y_test = train_test_split(X, y, test_size=0.33, random_state=42)"
   ]
  },
  {
   "cell_type": "code",
   "execution_count": 186,
   "id": "c1d7021e",
   "metadata": {},
   "outputs": [
    {
     "data": {
      "text/plain": [
       "(168, 4)"
      ]
     },
     "execution_count": 186,
     "metadata": {},
     "output_type": "execute_result"
    }
   ],
   "source": [
    "X_train.shape"
   ]
  },
  {
   "cell_type": "code",
   "execution_count": 187,
   "id": "d9020971",
   "metadata": {},
   "outputs": [
    {
     "data": {
      "text/plain": [
       "(83, 4)"
      ]
     },
     "execution_count": 187,
     "metadata": {},
     "output_type": "execute_result"
    }
   ],
   "source": [
    "X_test.shape"
   ]
  },
  {
   "cell_type": "code",
   "execution_count": 188,
   "id": "f2c3529e",
   "metadata": {},
   "outputs": [],
   "source": [
    "linear_regressor = LinearRegression()\n",
    "linear_regressor.fit(X_train, y_train)\n",
    "Y_pred = linear_regressor.predict(X_train)"
   ]
  },
  {
   "cell_type": "code",
   "execution_count": 189,
   "id": "e3b5d4f1",
   "metadata": {},
   "outputs": [
    {
     "name": "stdout",
     "output_type": "stream",
     "text": [
      "     Day  Month  Year        Open\n",
      "201   13      8  2021  723.710022\n",
      "152    4      6  2021  579.710022\n",
      "246   18     10  2021  851.789978\n",
      "65    29      1  2021  830.000000\n",
      "136   12      5  2021  602.489990\n",
      "..   ...    ...   ...         ...\n",
      "106   30      3  2021  601.750000\n",
      "14    13     11  2020  410.850006\n",
      "92    10      3  2021  700.299988\n",
      "179   14      7  2021  670.750000\n",
      "102   24      3  2021  667.909973\n",
      "\n",
      "[168 rows x 4 columns]\n"
     ]
    }
   ],
   "source": [
    "print(X_train)"
   ]
  },
  {
   "cell_type": "code",
   "execution_count": 190,
   "id": "91772383",
   "metadata": {},
   "outputs": [
    {
     "data": {
      "text/plain": [
       "(168,)"
      ]
     },
     "execution_count": 190,
     "metadata": {},
     "output_type": "execute_result"
    }
   ],
   "source": [
    "Y_pred.shape"
   ]
  },
  {
   "cell_type": "code",
   "execution_count": 191,
   "id": "f7ab569a",
   "metadata": {},
   "outputs": [],
   "source": [
    "dframe = pd.DataFrame(y_train, Y_pred)"
   ]
  },
  {
   "cell_type": "code",
   "execution_count": 192,
   "id": "368a3f26",
   "metadata": {},
   "outputs": [
    {
     "data": {
      "text/plain": [
       "0.9732101708336776"
      ]
     },
     "execution_count": 192,
     "metadata": {},
     "output_type": "execute_result"
    }
   ],
   "source": [
    "linear_regressor.score(X_test, y_test)"
   ]
  },
  {
   "cell_type": "code",
   "execution_count": 193,
   "id": "e1ed151d",
   "metadata": {},
   "outputs": [
    {
     "name": "stdout",
     "output_type": "stream",
     "text": [
      "MSE = 361.25133416971374\n"
     ]
    }
   ],
   "source": [
    "#Jeg finner ikke ut hvordan jeg kan sette X_train og y_train på en graf siden X_train består av flere verdier\n",
    "print(\"MSE = \"+str(metrics.mean_squared_error(y_train, Y_pred)))"
   ]
  },
  {
   "cell_type": "code",
   "execution_count": 194,
   "id": "336c9fb7",
   "metadata": {},
   "outputs": [],
   "source": [
    "Y_pred = linear_regressor.predict(X_test)"
   ]
  },
  {
   "cell_type": "code",
   "execution_count": 195,
   "id": "3aff4b48",
   "metadata": {},
   "outputs": [
    {
     "name": "stdout",
     "output_type": "stream",
     "text": [
      "     Actual Price  Predicted Price\n",
      "155    598.780029       601.914750\n",
      "6      423.899994       410.545622\n",
      "164    623.710022       621.675949\n",
      "60     846.640015       832.993282\n",
      "113    677.020020       675.718776\n",
      "..            ...              ...\n",
      "127    677.000000       703.150117\n",
      "142    586.780029       577.695212\n",
      "147    630.849976       624.575844\n",
      "5      400.510010       394.667754\n",
      "56     826.159973       848.455114\n",
      "\n",
      "[83 rows x 2 columns]\n"
     ]
    }
   ],
   "source": [
    "dfr = pd.DataFrame({'Actual Price':y_test, 'Predicted Price': Y_pred})\n",
    "print(dfr)"
   ]
  },
  {
   "cell_type": "code",
   "execution_count": 196,
   "id": "bc76a47c",
   "metadata": {},
   "outputs": [
    {
     "name": "stdout",
     "output_type": "stream",
     "text": [
      "MSE = 316.50557214440704\n"
     ]
    }
   ],
   "source": [
    "print(\"MSE = \"+str(metrics.mean_squared_error(y_test, Y_pred)))"
   ]
  },
  {
   "cell_type": "code",
   "execution_count": 201,
   "id": "50a1e0a9",
   "metadata": {},
   "outputs": [],
   "source": [
    "df['New'] = df['Open']*df['High']"
   ]
  },
  {
   "cell_type": "code",
   "execution_count": 241,
   "id": "4d717eb0",
   "metadata": {},
   "outputs": [
    {
     "data": {
      "image/png": "[encoded data removed]",
      "text/plain": [
       "<Figure size 432x288 with 1 Axes>"
      ]
     },
     "metadata": {
      "needs_background": "light"
     },
     "output_type": "display_data"
    },
    {
     "name": "stdout",
     "output_type": "stream",
     "text": [
      "MSE = 381.89404525046956\n"
     ]
    }
   ],
   "source": [
    "X = pd.DataFrame(df['New'])\n",
    "Y = pd.DataFrame(df['Close'])\n",
    "\n",
    "\n",
    "linear_regressor.fit(X,Y)\n",
    "Y_pred = linear_regressor.predict(X)\n",
    "plt.scatter(X,Y)\n",
    "plt.plot(X,Y_pred, color='red')\n",
    "plt.show()\n",
    "print(\"MSE = \"+str(metrics.mean_squared_error(Y, Y_pred)))"
   ]
  },
  {
   "cell_type": "code",
   "execution_count": 257,
   "id": "09f43ec9",
   "metadata": {},
   "outputs": [
    {
     "name": "stdout",
     "output_type": "stream",
     "text": [
      "Predict stock value for a specific Date\n",
      "Put day: 2\n",
      "Put month: 3\n",
      "Put year: 2021\n",
      "Stock value for 2-3-2021 is [[329.72437912]]\n",
      "MSE = 127246.03560578244\n"
     ]
    }
   ],
   "source": [
    "print('Predict stock value for a specific Date')\n",
    "day = input('Put day: ')\n",
    "month = input('Put month: ')\n",
    "year = input('Put year: ')\n",
    "\n",
    "day = int(day)\n",
    "month = int(month)\n",
    "year = int(year)\n",
    "\n",
    "Stock_value = linear_regressor.predict([[day*month*year]])\n",
    "\n",
    "print('Stock value for ' + str(day) + \"-\" + str(month) + \"-\" + str(year) + \" is \" + str(Stock_value))\n",
    "\n",
    "date_chosen = str(year) + \"-\" + str(month) + \"-\" + str(day)\n",
    "date_chosen = pd.to_datetime(date_chosen)\n",
    "Close_chosen = df.loc[df['Date'] == date_chosen]\n",
    "Close_value = Close_chosen['Close']\n",
    "err = metrics.mean_squared_error(Close_value, Stock_value)\n",
    "print('MSE = ' + str(err))"
   ]
  },
  {
   "cell_type": "code",
   "execution_count": null,
   "id": "6b0a6736",
   "metadata": {},
   "outputs": [],
   "source": []
  },
  {
   "cell_type": "code",
   "execution_count": null,
   "id": "a63390b0",
   "metadata": {},
   "outputs": [],
   "source": []
  }
 ],
 "metadata": {
  "kernelspec": {
   "display_name": "Python 3 (ipykernel)",
   "language": "python",
   "name": "python3"
  },
  "language_info": {
   "codemirror_mode": {
    "name": "ipython",
    "version": 3
   },
   "file_extension": ".py",
   "mimetype": "text/x-python",
   "name": "python",
   "nbconvert_exporter": "python",
   "pygments_lexer": "ipython3",
   "version": "3.8.11"
  }
 },
 "nbformat": 4,
 "nbformat_minor": 5
}
